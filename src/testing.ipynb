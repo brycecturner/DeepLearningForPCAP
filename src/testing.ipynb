{
 "cells": [
  {
   "cell_type": "code",
   "execution_count": 1,
   "metadata": {},
   "outputs": [
    {
     "name": "stdout",
     "output_type": "stream",
     "text": [
      "CONFIGS --------\n",
      "reading data from dir: D:\\Projects\\DeepLearningForPCAP\\data\\isot_app_and_botnet_dataset\\all_filtered_dns\\\n",
      "using max packet count: 50\n",
      "saving resulting tesnors to dir: D:\\Projects\\DeepLearningForPCAP\\data\\tensors\\\n",
      "WORKING ----\n",
      "... extracting packet data ...\n",
      "... padding packet tensors ...\n",
      "... one hot encoding transport layer and traffic data ...\n",
      "RESULTS----\n",
      ".... saved D:\\Projects\\DeepLearningForPCAP\\data\\tensors\\pcap_tensor.npy\n",
      ".... saved D:\\Projects\\DeepLearningForPCAP\\data\\tensors\\traffic_data.npy\n",
      ".... saved D:\\Projects\\DeepLearningForPCAP\\data\\tensors\\traffic_one_hot.npy\n",
      ".... saved D:\\Projects\\DeepLearningForPCAP\\data\\tensors\\traffic_indices.npy\n",
      ".... saved D:\\Projects\\DeepLearningForPCAP\\data\\tensors\\transport_layer_list.npy\n",
      ".... saved D:\\Projects\\DeepLearningForPCAP\\data\\tensors\\transport_one_hot.npy\n",
      ".... saved D:\\Projects\\DeepLearningForPCAP\\data\\tensors\\transport_indices.npy\n"
     ]
    }
   ],
   "source": [
    "!python prepare_all_tensors.py"
   ]
  },
  {
   "cell_type": "code",
   "execution_count": 20,
   "metadata": {},
   "outputs": [],
   "source": [
    "import numpy as np\n",
    "from sklearn.model_selection import train_test_split\n",
    "import pandas as pd\n",
    "\n",
    "\n",
    "import tensorflow as tf\n",
    "import keras\n",
    "from keras import layers\n"
   ]
  },
  {
   "cell_type": "code",
   "execution_count": 3,
   "metadata": {},
   "outputs": [],
   "source": [
    "with open(\"D:\\\\Projects\\DeepLearningForPCAP\\\\data\\\\tensors\\\\pcap_tensor.npy\", 'rb') as f:\n",
    "    pcap_tensor = np.load(f)\n",
    "\n",
    "with open(\"D:\\\\Projects\\DeepLearningForPCAP\\\\data\\\\tensors\\\\transport_one_hot.npy\", 'rb') as f:\n",
    "    transport_one_hot = np.load(f)\n",
    "\n",
    "with open(\"D:\\\\Projects\\DeepLearningForPCAP\\\\data\\\\tensors\\\\traffic_one_hot.npy\", 'rb') as f:\n",
    "    traffic_one_hot = np.load(f)\n"
   ]
  },
  {
   "cell_type": "code",
   "execution_count": 4,
   "metadata": {},
   "outputs": [],
   "source": [
    "X_train, X_test, Y_train, Y_test = train_test_split(pcap_tensor, traffic_one_hot, test_size = 0.2, random_state=12)\n"
   ]
  },
  {
   "cell_type": "markdown",
   "metadata": {},
   "source": [
    "## Define the CNN Model"
   ]
  },
  {
   "cell_type": "code",
   "execution_count": 11,
   "metadata": {},
   "outputs": [],
   "source": [
    "kernel_size = 4\n",
    "input_shape = pcap_tensor.shape[1]\n",
    "output_shape = traffic_one_hot.shape[1]\n",
    "\n",
    "n_training_epochs = 5\n",
    "batch_size = 64"
   ]
  },
  {
   "cell_type": "code",
   "execution_count": 12,
   "metadata": {},
   "outputs": [],
   "source": [
    "def base_classifier_model(input_shape, output_shape, conv_kernel_size, n_conv_layers):\n",
    "    \"\"\" Defines the baseline classifier model with 3 Convulutional Layers aand 2 max pool layers\"\"\"\n",
    "    model = keras.models.Sequential()\n",
    "\n",
    "    for _ in range(n_conv_layers):\n",
    "        model.add(layers.Conv1D(32, (conv_kernel_size), activation='relu', input_shape=(input_shape, 1)))\n",
    "        model.add(layers.MaxPooling1D(2))\n",
    "\n",
    "\n",
    "\n",
    "    model.add(layers.Conv1D(64, conv_kernel_size, activation='relu'))\n",
    "\n",
    "    model.add(keras.layers.Flatten())\n",
    "    model.add(keras.layers.Dense(64, activation='relu'))\n",
    "    model.add(keras.layers.Dense(output_shape, activation='softmax'))\n",
    "\n",
    "    return model\n",
    "\n",
    "\n",
    "model = base_classifier_model(input_shape, output_shape, kernel_size, 3)\n",
    "\n"
   ]
  },
  {
   "cell_type": "code",
   "execution_count": 16,
   "metadata": {},
   "outputs": [
    {
     "name": "stdout",
     "output_type": "stream",
     "text": [
      "3/3 [==============================] - 0s 5ms/step - loss: 1.3215 - accuracy: 0.7429\n",
      "3/3 [==============================] - 0s 6ms/step - loss: 1.3063 - accuracy: 0.6286\n",
      "3/3 [==============================] - 0s 6ms/step - loss: 1.6837 - accuracy: 0.6286\n"
     ]
    }
   ],
   "source": [
    "param_list = [\n",
    "    {'kernel_size': 3, 'n_conv_layers': 2},\n",
    "    {'kernel_size': 3, 'n_conv_layers': 3},\n",
    "    {'kernel_size': 3, 'n_conv_layers': 4},\n",
    "    # {'kernel_size': 3, 'n_conv_layers': 5},\n",
    "\n",
    "    # {'kernel_size': 4, 'n_conv_layers': 2},\n",
    "    # {'kernel_size': 4, 'n_conv_layers': 3},\n",
    "    # {'kernel_size': 4, 'n_conv_layers': 4},\n",
    "    # {'kernel_size': 4, 'n_conv_layers': 5},\n",
    "\n",
    "    # {'kernel_size': 5, 'n_conv_layers': 2},\n",
    "    # {'kernel_size': 5, 'n_conv_layers': 3},\n",
    "    # {'kernel_size': 5, 'n_conv_layers': 4},\n",
    "    # {'kernel_size': 5, 'n_conv_layers': 5}\n",
    "]\n",
    "\n",
    "results = []\n",
    "\n",
    "for using_param in param_list:\n",
    "    model = base_classifier_model(input_shape, output_shape, using_param['kernel_size'], using_param['n_conv_layers'])\n",
    "\n",
    "    model.compile(optimizer='rmsprop',\n",
    "                loss='categorical_crossentropy',\n",
    "                metrics=['accuracy'])\n",
    "\n",
    "\n",
    "    model.fit(X_train, Y_train, epochs=n_training_epochs, batch_size=batch_size, verbose=0)\n",
    "    test_loss, test_acc = model.evaluate(X_test, Y_test)\n",
    "\n",
    "    results.append({'test_loss': test_loss, 'test_acc': test_acc})"
   ]
  },
  {
   "cell_type": "code",
   "execution_count": 17,
   "metadata": {},
   "outputs": [
    {
     "data": {
      "text/plain": [
       "[{'test_loss': 1.3214871883392334, 'test_acc': 0.7428571581840515},\n",
       " {'test_loss': 1.3062856197357178, 'test_acc': 0.6285714507102966},\n",
       " {'test_loss': 1.6837176084518433, 'test_acc': 0.6285714507102966}]"
      ]
     },
     "execution_count": 17,
     "metadata": {},
     "output_type": "execute_result"
    }
   ],
   "source": [
    "results"
   ]
  },
  {
   "cell_type": "code",
   "execution_count": 40,
   "metadata": {},
   "outputs": [
    {
     "data": {
      "text/html": [
       "<div>\n",
       "<style scoped>\n",
       "    .dataframe tbody tr th:only-of-type {\n",
       "        vertical-align: middle;\n",
       "    }\n",
       "\n",
       "    .dataframe tbody tr th {\n",
       "        vertical-align: top;\n",
       "    }\n",
       "\n",
       "    .dataframe thead th {\n",
       "        text-align: right;\n",
       "    }\n",
       "</style>\n",
       "<table border=\"1\" class=\"dataframe\">\n",
       "  <thead>\n",
       "    <tr style=\"text-align: right;\">\n",
       "      <th></th>\n",
       "      <th>kernel_size</th>\n",
       "      <th>n_conv_layers</th>\n",
       "      <th>test_loss</th>\n",
       "      <th>test_acc</th>\n",
       "    </tr>\n",
       "  </thead>\n",
       "  <tbody>\n",
       "    <tr>\n",
       "      <th>0</th>\n",
       "      <td>3</td>\n",
       "      <td>2</td>\n",
       "      <td>1.321487</td>\n",
       "      <td>0.742857</td>\n",
       "    </tr>\n",
       "    <tr>\n",
       "      <th>0</th>\n",
       "      <td>3</td>\n",
       "      <td>3</td>\n",
       "      <td>1.306286</td>\n",
       "      <td>0.628571</td>\n",
       "    </tr>\n",
       "    <tr>\n",
       "      <th>0</th>\n",
       "      <td>3</td>\n",
       "      <td>4</td>\n",
       "      <td>1.683718</td>\n",
       "      <td>0.628571</td>\n",
       "    </tr>\n",
       "  </tbody>\n",
       "</table>\n",
       "</div>"
      ],
      "text/plain": [
       "   kernel_size  n_conv_layers  test_loss  test_acc\n",
       "0            3              2   1.321487  0.742857\n",
       "0            3              3   1.306286  0.628571\n",
       "0            3              4   1.683718  0.628571"
      ]
     },
     "execution_count": 40,
     "metadata": {},
     "output_type": "execute_result"
    }
   ],
   "source": [
    "outtable = pd.DataFrame()\n",
    "\n",
    "for p, r in zip(param_list, results):\n",
    "    p.update(r)\n",
    "    outtable = pd.concat([outtable, pd.DataFrame(p, index=[0])])\n",
    "\n",
    "outtable.sort_values(['test_acc'], ascending=False)"
   ]
  },
  {
   "cell_type": "code",
   "execution_count": null,
   "metadata": {},
   "outputs": [],
   "source": []
  }
 ],
 "metadata": {
  "kernelspec": {
   "display_name": "botnet_finalproj",
   "language": "python",
   "name": "python3"
  },
  "language_info": {
   "codemirror_mode": {
    "name": "ipython",
    "version": 3
   },
   "file_extension": ".py",
   "mimetype": "text/x-python",
   "name": "python",
   "nbconvert_exporter": "python",
   "pygments_lexer": "ipython3",
   "version": "3.9.18"
  }
 },
 "nbformat": 4,
 "nbformat_minor": 2
}
