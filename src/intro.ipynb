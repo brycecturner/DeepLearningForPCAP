{
 "cells": [
  {
   "cell_type": "code",
   "execution_count": 14,
   "metadata": {},
   "outputs": [],
   "source": [
    "\n",
    "\n",
    "\n",
    "\n",
    "import pcapkit"
   ]
  },
  {
   "cell_type": "markdown",
   "metadata": {},
   "source": []
  },
  {
   "cell_type": "code",
   "execution_count": 22,
   "metadata": {},
   "outputs": [
    {
     "name": "stderr",
     "output_type": "stream",
     "text": [
      "[WARNING] 11/14/2023 03:29:26 PM - EOF reached\n"
     ]
    }
   ],
   "source": [
    "extraction = extract(fin=\"d:\\\\Projects\\\\botnet_classification\\\\isot_app_and_botnet_dataset\\\\application_data\\\\applicationDNS.pcap\", nofile=True)"
   ]
  },
  {
   "cell_type": "code",
   "execution_count": 28,
   "metadata": {},
   "outputs": [
    {
     "ename": "AttributeError",
     "evalue": "'IPv4' object has no attribute 'dest'",
     "output_type": "error",
     "traceback": [
      "\u001b[1;31m---------------------------------------------------------------------------\u001b[0m",
      "\u001b[1;31mAttributeError\u001b[0m                            Traceback (most recent call last)",
      "\u001b[1;32md:\\Projects\\botnet_classification\\src\\intro.ipynb Cell 4\u001b[0m line \u001b[0;36m9\n\u001b[0;32m      <a href='vscode-notebook-cell:/d%3A/Projects/botnet_classification/src/intro.ipynb#W6sZmlsZQ%3D%3D?line=3'>4</a>\u001b[0m \u001b[39mif\u001b[39;00m IP \u001b[39min\u001b[39;00m frame0:\n\u001b[0;32m      <a href='vscode-notebook-cell:/d%3A/Projects/botnet_classification/src/intro.ipynb#W6sZmlsZQ%3D%3D?line=4'>5</a>\u001b[0m    \u001b[39m# fetch the IP packet from this frame\u001b[39;00m\n\u001b[0;32m      <a href='vscode-notebook-cell:/d%3A/Projects/botnet_classification/src/intro.ipynb#W6sZmlsZQ%3D%3D?line=5'>6</a>\u001b[0m    ip \u001b[39m=\u001b[39m frame0[IP]\n\u001b[1;32m----> <a href='vscode-notebook-cell:/d%3A/Projects/botnet_classification/src/intro.ipynb#W6sZmlsZQ%3D%3D?line=8'>9</a>\u001b[0m ip\u001b[39m.\u001b[39;49mdest\n",
      "\u001b[1;31mAttributeError\u001b[0m: 'IPv4' object has no attribute 'dest'"
     ]
    }
   ],
   "source": [
    "frame0 = extraction.frame[0]\n",
    "# check if IP (IPv4 or IPv6) in this frame\n",
    "flag = IP in frame0\n",
    "if IP in frame0:\n",
    "   # fetch the IP packet from this frame\n",
    "   ip = frame0[IP]\n",
    "\n",
    "\n",
    "ip.dst"
   ]
  },
  {
   "cell_type": "code",
   "execution_count": 18,
   "metadata": {},
   "outputs": [
    {
     "data": {
      "text/plain": [
       "'d:\\\\Projects\\\\botnet_classification\\\\src'"
      ]
     },
     "execution_count": 18,
     "metadata": {},
     "output_type": "execute_result"
    }
   ],
   "source": [
    "import os\n",
    "os.getcwd()"
   ]
  },
  {
   "cell_type": "code",
   "execution_count": 29,
   "metadata": {},
   "outputs": [
    {
     "name": "stdout",
     "output_type": "stream",
     "text": [
      "Collecting scapy\n",
      "  Downloading scapy-2.5.0.tar.gz (1.3 MB)\n",
      "     ---------------------------------------- 0.0/1.3 MB ? eta -:--:--\n",
      "     ---------------------------------------- 0.0/1.3 MB ? eta -:--:--\n",
      "     - -------------------------------------- 0.0/1.3 MB 495.5 kB/s eta 0:00:03\n",
      "     ------ --------------------------------- 0.2/1.3 MB 1.8 MB/s eta 0:00:01\n",
      "     ------------------- -------------------- 0.6/1.3 MB 3.9 MB/s eta 0:00:01\n",
      "     ------------------------------------- -- 1.2/1.3 MB 5.9 MB/s eta 0:00:01\n",
      "     ---------------------------------------- 1.3/1.3 MB 5.4 MB/s eta 0:00:00\n",
      "  Preparing metadata (setup.py): started\n",
      "  Preparing metadata (setup.py): finished with status 'done'\n",
      "Building wheels for collected packages: scapy\n",
      "  Building wheel for scapy (setup.py): started\n",
      "  Building wheel for scapy (setup.py): finished with status 'done'\n",
      "  Created wheel for scapy: filename=scapy-2.5.0-py2.py3-none-any.whl size=1444342 sha256=75f717bfa0ab925918045c64a52dda31135c3a4c6c971714e9e98e15bf8fe1bb\n",
      "  Stored in directory: c:\\users\\bctur\\appdata\\local\\pip\\cache\\wheels\\dd\\1b\\47\\d46b1a87e339be501612cf4cd1bf57742e534f9c9aac7b00d6\n",
      "Successfully built scapy\n",
      "Installing collected packages: scapy\n",
      "Successfully installed scapy-2.5.0\n"
     ]
    }
   ],
   "source": [
    "!pip install scapy"
   ]
  },
  {
   "cell_type": "code",
   "execution_count": 30,
   "metadata": {},
   "outputs": [],
   "source": [
    "from scapy.utils import RawPcapReader"
   ]
  },
  {
   "cell_type": "code",
   "execution_count": 31,
   "metadata": {},
   "outputs": [],
   "source": [
    "tmp = RawPcapReader(\"d:\\\\Projects\\\\botnet_classification\\\\isot_app_and_botnet_dataset\\\\application_data\\\\applicationDNS.pcap\")"
   ]
  },
  {
   "cell_type": "code",
   "execution_count": 44,
   "metadata": {},
   "outputs": [
    {
     "name": "stdout",
     "output_type": "stream",
     "text": [
      "1082\n"
     ]
    }
   ],
   "source": [
    "count = 0\n",
    "for (pkt_data, pkt_metadata, ) in RawPcapReader(\"d:\\\\Projects\\\\botnet_classification\\\\isot_app_and_botnet_dataset\\\\application_data\\\\applicationDNS.pcap\"):\n",
    "    count += 1\n",
    "\n",
    "print(count)"
   ]
  },
  {
   "cell_type": "code",
   "execution_count": 45,
   "metadata": {},
   "outputs": [
    {
     "ename": "SyntaxError",
     "evalue": "invalid syntax (1184269621.py, line 1)",
     "output_type": "error",
     "traceback": [
      "\u001b[1;36m  Cell \u001b[1;32mIn[45], line 1\u001b[1;36m\u001b[0m\n\u001b[1;33m    https://vnetman.github.io/pcap/python/pyshark/scapy/libpcap/2018/10/25/analyzing-packet-captures-with-python-part-1.html\u001b[0m\n\u001b[1;37m          ^\u001b[0m\n\u001b[1;31mSyntaxError\u001b[0m\u001b[1;31m:\u001b[0m invalid syntax\n"
     ]
    }
   ],
   "source": [
    "https://vnetman.github.io/pcap/python/pyshark/scapy/libpcap/2018/10/25/analyzing-packet-captures-with-python-part-1.html"
   ]
  },
  {
   "cell_type": "markdown",
   "metadata": {},
   "source": [
    "# Identify An individual session (somehow)\n",
    "\n",
    "# tag each session as its type (benign or other botnet)\n",
    "\n",
    "# "
   ]
  }
 ],
 "metadata": {
  "kernelspec": {
   "display_name": "botnet_finalproj",
   "language": "python",
   "name": "python3"
  },
  "language_info": {
   "codemirror_mode": {
    "name": "ipython",
    "version": 3
   },
   "file_extension": ".py",
   "mimetype": "text/x-python",
   "name": "python",
   "nbconvert_exporter": "python",
   "pygments_lexer": "ipython3",
   "version": "3.9.18"
  }
 },
 "nbformat": 4,
 "nbformat_minor": 2
}
